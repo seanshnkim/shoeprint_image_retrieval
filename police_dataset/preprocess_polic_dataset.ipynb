{
 "cells": [
  {
   "cell_type": "markdown",
   "metadata": {},
   "source": [
    "# 경찰청 5차본 데이터셋 전처리 (2023.12.08 기준)"
   ]
  },
  {
   "cell_type": "code",
   "execution_count": 2,
   "metadata": {},
   "outputs": [],
   "source": [
    "import os\n",
    "import shutil\n",
    "import pandas as pd\n",
    "from PIL import Image\n",
    "import time\n",
    "import logging\n",
    "import sys"
   ]
  },
  {
   "cell_type": "markdown",
   "metadata": {},
   "source": [
    "## 1. 파일 경로 지정"
   ]
  },
  {
   "cell_type": "code",
   "execution_count": 19,
   "metadata": {},
   "outputs": [],
   "source": [
    "# 경찰청 데이터셋 압축 파일 저장한 위치를 입력하세요\n",
    "dataset_dir = os.path.expanduser('~/Documents')\n",
    "\n",
    "# 경찰청 데이터셋 압축 파일 이름을 입력하세요\n",
    "police_dataset_fname = 'policelab5차본(1-4차본 포함)_수정본' # 버전에 따라 이름이 다를 수 있음\n",
    "\n",
    "police_dataset_dir = os.path.join(dataset_dir, police_dataset_fname)\n",
    "\n",
    "# 경찰청 데이터셋 정보 엑셀 파일(유류, 등록 이미지와 문양 정보 파일 경로가 정리되어 있음) 이름을 입력하세요\n",
    "db_info_name = 'DB정리_20231122_포공.xlsx' # 버전 및 날짜에 따라 파일 이름이 다를 수 있음\n",
    "db_info_dir = os.path.join(police_dataset_dir, db_info_name)\n"
   ]
  },
  {
   "cell_type": "markdown",
   "metadata": {},
   "source": [
    "## 2. 이미지 확장자 통일 확인\n",
    "- 5차본 기준. 버전에 따라 폴더 구조가 달라질 수 있으니 직접 열어서 확인해보길 바랍니다.\n",
    "- 등록 이미지와 유류 이미지 모두 파일 확장자가 'png'라고 되어있다고 가정합니다.\n",
    "- 파일 확장자가 대문자로 적혀있을 경우 다르게 인식한 후 모두 소문자로 통일합니다."
   ]
  },
  {
   "cell_type": "code",
   "execution_count": 20,
   "metadata": {},
   "outputs": [],
   "source": [
    "def unify_file_extension(imgs_dir, targ_ext, inplace=True):\n",
    "    # Verify if targ_ext is a valid image extension.\n",
    "    if targ_ext.lower() not in ['jpg', 'jpeg', 'png', 'bmp', 'tiff', 'gif']:\n",
    "        raise ValueError(f\"Invalid image extension: {targ_ext}\")\n",
    "    \n",
    "    # log in  sys.stdout\n",
    "    logging.basicConfig(stream=sys.stdout, level=logging.INFO, format='%(asctime)s %(message)s', datefmt='%H:%M:%S')\n",
    "    logger = logging.getLogger(\"unify_file_extension\")\n",
    "    \n",
    "    img_list = sorted(os.listdir(imgs_dir))\n",
    "    for img_fname in img_list:\n",
    "        cur_ext = img_fname.split('.')[-1]\n",
    "        if cur_ext.lower() != targ_ext:\n",
    "            raise ValueError(f\"Invalid image extension: {cur_ext}\")\n",
    "        elif (cur_ext != targ_ext) and (cur_ext.lower() == targ_ext) :\n",
    "            if inplace:\n",
    "                new_img_fname = img_fname.rstrip(cur_ext) + targ_ext\n",
    "                os.rename(os.path.join(imgs_dir, img_fname), os.path.join(imgs_dir, new_img_fname))\n",
    "                logger.info(f\"Renamed {img_fname} to {new_img_fname}.\")\n",
    "            else:\n",
    "                # make a new file if inplace is True instead of renaming the file.\n",
    "                shutil.copyfile(os.path.join(imgs_dir, img_fname), os.path.join(imgs_dir, img_fname.rstrip(cur_ext) + targ_ext))\n",
    "                logger.info(f\"Copied {img_fname} into {new_img_fname}.\")\n",
    "    return True"
   ]
  },
  {
   "cell_type": "code",
   "execution_count": 21,
   "metadata": {},
   "outputs": [
    {
     "data": {
      "text/plain": [
       "True"
      ]
     },
     "execution_count": 21,
     "metadata": {},
     "output_type": "execute_result"
    }
   ],
   "source": [
    "# 현장(유류) 이미지 파일의 저장 경로\n",
    "query_imgs_dir = os.path.join(police_dataset_dir, 'pair', 'registration', 'bottom')\n",
    "# 등록 이미지 파일의 저장 경로\n",
    "ref_imgs_dir = os.path.join(police_dataset_dir, 'pair', 'Leaving', 'image')\n",
    "\n",
    "target_extension = 'png'\n",
    "unify_file_extension(imgs_dir=query_imgs_dir, targ_ext=target_extension, inplace=True)\n",
    "unify_file_extension(imgs_dir=ref_imgs_dir, targ_ext=target_extension, inplace=True)"
   ]
  },
  {
   "cell_type": "markdown",
   "metadata": {},
   "source": [
    "## 3. label table 생성\n",
    "- 각 유류 이미지(query image)마다 매칭되는 등록 이미지(reference image / label) 파일 이름을 담고 있는 csv 파일 생성\n",
    "- 등록 이미지 파일 경로에 유류 이미지 파일 경로가 잘못 들어가있는 경우 에러 메시지를 출력한 후 종료"
   ]
  },
  {
   "cell_type": "code",
   "execution_count": 29,
   "metadata": {},
   "outputs": [],
   "source": [
    "def create_label_table(db_info_fname, save_fname, query_colname, ref_colname, change_ref_name=True):\n",
    "    \n",
    "    df = pd.read_excel(db_info_fname, sheet_name='Sheet1', engine='openpyxl')\n",
    "    label_table = {\"query\": [], \"ref\": []}\n",
    "    \n",
    "    ref_tag = 'registration'\n",
    "    query_tag = 'Leaving'\n",
    "    \n",
    "    logger = logging.getLogger(\"create_label_table\")\n",
    "    \n",
    "    for idx, row in df.iterrows():\n",
    "        # check if image file paths are correctly matched with categories(query vs. reference) in excel file.\n",
    "        if query_tag not in row[query_colname]:\n",
    "            raise ValueError(f\"Query image path is not matched with the category: {idx}th row: {row[query_colname]}\")\n",
    "        \n",
    "        if ref_tag not in row[ref_colname]:\n",
    "            if change_ref_name:\n",
    "                ref_img_name = row['등록밑창이미지이름'] + '.png'\n",
    "            else:\n",
    "                raise ValueError(f\"Reference image path is not matched with the category: {idx}th row: {row[ref_colname]}\")\n",
    "        \n",
    "        query_img_name = row[query_colname].split('\\\\')[-1]\n",
    "        ref_img_name = row[ref_colname].split('\\\\')[-1]\n",
    "        \n",
    "        label_table[\"query\"].append(query_img_name)\n",
    "        label_table[\"ref\"].append(ref_img_name)\n",
    "\n",
    "    label_table_df = pd.DataFrame.from_dict(label_table, orient='columns')\n",
    "    label_table_df.to_csv(save_fname, index=False)\n",
    "    logger.info(f\"Saved label table to {save_fname}.\")"
   ]
  },
  {
   "cell_type": "code",
   "execution_count": 33,
   "metadata": {},
   "outputs": [],
   "source": [
    "# DB info 엑셀 파일 이름을 입력하세요\n",
    "db_info_fname = os.path.join(police_dataset_dir, 'DB정리_20231122_포공.xlsx')\n",
    "\n",
    "query_colname = '유류족적이미지경로'\n",
    "ref_colname = '등록이미지경로'\n",
    "\n",
    "# label table을 저장하고자 하는 현재 경로를 지정하세요\n",
    "working_dir = '.'\n",
    "\n",
    "time_stamp = time.strftime(\"%m%d_%H%M\", time.localtime())\n",
    "lable_table_fname = os.path.join(working_dir, f'label_table_{time_stamp}.csv')"
   ]
  },
  {
   "cell_type": "code",
   "execution_count": 34,
   "metadata": {},
   "outputs": [
    {
     "name": "stdout",
     "output_type": "stream",
     "text": [
      "11:24:39 Saved label table to ./label_table_1211_1124.csv.\n"
     ]
    }
   ],
   "source": [
    "create_label_table(db_info_fname, lable_table_fname, query_colname, ref_colname)"
   ]
  },
  {
   "cell_type": "code",
   "execution_count": 36,
   "metadata": {},
   "outputs": [],
   "source": [
    "# check if the image files in label_table actually exist.\n",
    "def check_existing_data(label_table_dir, query_img_dir, ref_img_dir, save_fname):\n",
    "    df = pd.read_csv(label_table_dir)\n",
    "    \n",
    "    query_imgs = os.listdir(query_img_dir)\n",
    "    ref_imgs = os.listdir(ref_img_dir)\n",
    "    \n",
    "    missing_imgs = {\"query\": [], \"ref\": [], \"missing\":[]}\n",
    "    logger = logging.getLogger(\"check_existing_data\")\n",
    "    \n",
    "    for _, row in df.iterrows():\n",
    "        query_img_name = row['query']\n",
    "        ref_img_name = row['ref']\n",
    "        \n",
    "        if query_img_name not in query_imgs:\n",
    "            missing_imgs[\"query\"].append(query_img_name)\n",
    "            missing_imgs[\"ref\"].append(ref_img_name)\n",
    "            missing_imgs[\"missing\"].append(\"query\")\n",
    "            \n",
    "            logger.info(f\"{query_img_name} in label_table does NOT exist in real query image folder: {query_img_dir}.\")\n",
    "        \n",
    "        if ref_img_name not in ref_imgs:\n",
    "            missing_imgs[\"query\"].append(query_img_name)\n",
    "            missing_imgs[\"ref\"].append(ref_img_name)\n",
    "            missing_imgs[\"missing\"].append(\"ref\")\n",
    "            \n",
    "            logger.info(f\"{ref_img_name} in label_table does NOT exist in real ref image folder: {ref_img_dir}.\")\n",
    "    \n",
    "    missing_imgs = pd.DataFrame.from_dict(missing_imgs, orient='columns')\n",
    "    missing_imgs.to_csv(save_fname, index=True)\n",
    "    logger.info(f\"Saved list of missing images to {save_fname}.\")\n",
    "   \n",
    "    return True"
   ]
  },
  {
   "cell_type": "code",
   "execution_count": 37,
   "metadata": {},
   "outputs": [
    {
     "name": "stdout",
     "output_type": "stream",
     "text": [
      "11:25:22 B265225.png in label_table does NOT exist in real ref image folder: ref.\n",
      "11:25:22 B265225.png in label_table does NOT exist in real ref image folder: ref.\n",
      "11:25:22 B2551162.png in label_table does NOT exist in real ref image folder: ref.\n",
      "11:25:22 00001-21-0113_3.png in label_table does NOT exist in real query image folder: query.\n",
      "11:25:23 Saved list of missing images to ./missing_imgs_1211_1124.csv.\n"
     ]
    },
    {
     "data": {
      "text/plain": [
       "True"
      ]
     },
     "execution_count": 37,
     "metadata": {},
     "output_type": "execute_result"
    }
   ],
   "source": [
    "check_existing_data(label_table_dir=lable_table_fname, \\\n",
    "        query_img_dir='query', \\\n",
    "        ref_img_dir='ref', \\\n",
    "        save_fname=os.path.join(working_dir, f'missing_imgs_{time_stamp}.csv'))"
   ]
  }
 ],
 "metadata": {
  "kernelspec": {
   "display_name": "base",
   "language": "python",
   "name": "python3"
  },
  "language_info": {
   "codemirror_mode": {
    "name": "ipython",
    "version": 3
   },
   "file_extension": ".py",
   "mimetype": "text/x-python",
   "name": "python",
   "nbconvert_exporter": "python",
   "pygments_lexer": "ipython3",
   "version": "3.10.9"
  }
 },
 "nbformat": 4,
 "nbformat_minor": 2
}
